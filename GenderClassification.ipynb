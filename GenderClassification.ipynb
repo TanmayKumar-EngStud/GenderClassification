{
  "nbformat": 4,
  "nbformat_minor": 5,
  "metadata": {
    "accelerator": "GPU",
    "colab": {
      "name": "LoadingDataset.ipynb",
      "provenance": [],
      "collapsed_sections": [],
      "include_colab_link": true
    },
    "kernelspec": {
      "display_name": "Python 3",
      "language": "python",
      "name": "python3"
    },
    "language_info": {
      "codemirror_mode": {
        "name": "ipython",
        "version": 3
      },
      "file_extension": ".py",
      "mimetype": "text/x-python",
      "name": "python",
      "nbconvert_exporter": "python",
      "pygments_lexer": "ipython3",
      "version": "3.8.5"
    }
  },
  "cells": [
    {
      "cell_type": "markdown",
      "metadata": {
        "id": "view-in-github",
        "colab_type": "text"
      },
      "source": [
        "<a href=\"https://colab.research.google.com/github/TanmayKumar-EngStud/GenderClassification/blob/main/GenderClassification.ipynb\" target=\"_parent\"><img src=\"https://colab.research.google.com/assets/colab-badge.svg\" alt=\"Open In Colab\"/></a>"
      ]
    },
    {
      "cell_type": "code",
      "metadata": {
        "colab": {
          "base_uri": "https://localhost:8080/"
        },
        "id": "x3L8GTX3bp5K",
        "outputId": "1e17517d-8cca-4770-c5df-15e0273a9338"
      },
      "source": [
        "from google.colab import drive\n",
        "drive.mount('/content/drive')"
      ],
      "id": "x3L8GTX3bp5K",
      "execution_count": 8,
      "outputs": [
        {
          "output_type": "stream",
          "text": [
            "Drive already mounted at /content/drive; to attempt to forcibly remount, call drive.mount(\"/content/drive\", force_remount=True).\n"
          ],
          "name": "stdout"
        }
      ]
    },
    {
      "cell_type": "markdown",
      "metadata": {
        "id": "5M4uTPSyPQjY"
      },
      "source": [
        "# Python code for loading and refining Data"
      ],
      "id": "5M4uTPSyPQjY"
    },
    {
      "cell_type": "code",
      "metadata": {
        "colab": {
          "base_uri": "https://localhost:8080/"
        },
        "id": "basic-livestock",
        "outputId": "195521ce-6ba8-4e47-c61e-6afdd38b86f4"
      },
      "source": [
        "import numpy as np\n",
        "import matplotlib.pyplot as plt\n",
        "import os\n",
        "import cv2\n",
        "\n",
        "DataDir = \"/content/drive/MyDrive/newSET\"\n",
        "Category = [\"women\",\"men\"]\n",
        "print('done')"
      ],
      "id": "basic-livestock",
      "execution_count": 10,
      "outputs": [
        {
          "output_type": "stream",
          "text": [
            "done\n"
          ],
          "name": "stdout"
        }
      ]
    },
    {
      "cell_type": "code",
      "metadata": {
        "colab": {
          "base_uri": "https://localhost:8080/"
        },
        "id": "extreme-processing",
        "outputId": "2ab6b858-3034-4a90-e357-9e208e1a2771"
      },
      "source": [
        "trainingData = []\n",
        "IMG_SIZE = 250\n",
        "def create_Training_Data():\n",
        "    for cat in Category:\n",
        "        path = os.path.join(DataDir, cat)\n",
        "        class_num= Category.index(cat)\n",
        "        for img in os.listdir(path):\n",
        "            try:\n",
        "                img_arr   = cv2.imread(os.path.join(path,img), cv2.IMREAD_GRAYSCALE)\n",
        "                new_array = cv2.resize(img_arr, (IMG_SIZE, IMG_SIZE))\n",
        "                trainingData.append([new_array, class_num])\n",
        "            except Exception as e:\n",
        "                pass\n",
        "create_Training_Data()            \n",
        "print(len(trainingData))\n"
      ],
      "id": "extreme-processing",
      "execution_count": 12,
      "outputs": [
        {
          "output_type": "stream",
          "text": [
            "3262\n"
          ],
          "name": "stdout"
        }
      ]
    },
    {
      "cell_type": "code",
      "metadata": {
        "colab": {
          "base_uri": "https://localhost:8080/"
        },
        "id": "neither-architecture",
        "outputId": "a39ba0ab-1ac5-459c-9d3b-163a85b9773e"
      },
      "source": [
        "import random \n",
        "random.shuffle(trainingData)\n",
        "X =[]\n",
        "y =[]\n",
        "\n",
        "for features, label in trainingData:\n",
        "    X.append(features)\n",
        "    y.append(label)\n",
        "\n",
        "\n",
        "X = np.array(X).reshape(-1,IMG_SIZE,IMG_SIZE,1)\n",
        "print('done')"
      ],
      "id": "neither-architecture",
      "execution_count": 13,
      "outputs": [
        {
          "output_type": "stream",
          "text": [
            "done\n"
          ],
          "name": "stdout"
        }
      ]
    },
    {
      "cell_type": "code",
      "metadata": {
        "colab": {
          "base_uri": "https://localhost:8080/"
        },
        "id": "tested-making",
        "outputId": "0527e6e7-f034-4197-f45e-0cd38b77f292"
      },
      "source": [
        "import pickle \n",
        "\n",
        "pickle_out = open(\"X.pickle\",\"wb\")\n",
        "pickle.dump(X,pickle_out)\n",
        "pickle_out.close()\n",
        "\n",
        "pickle_out = open(\"y.pickle\",\"wb\")\n",
        "pickle.dump(y,pickle_out)\n",
        "pickle_out.close()\n",
        "\n",
        "pickle_in = open(\"X.pickle\",\"rb\")\n",
        "X = pickle.load(pickle_in)\n",
        "\n",
        "X = X/255.0\n",
        "print('done')"
      ],
      "id": "tested-making",
      "execution_count": 14,
      "outputs": [
        {
          "output_type": "stream",
          "text": [
            "done\n"
          ],
          "name": "stdout"
        }
      ]
    },
    {
      "cell_type": "markdown",
      "metadata": {
        "id": "LWwBIU1Lh52M"
      },
      "source": [
        "## **Creating the model** \n",
        "\n",
        "\n",
        "```\n",
        "# This the actual code of my Convolution network\n",
        "```\n",
        "\n",
        "\n",
        "---\n",
        "\n",
        "\n",
        "\n"
      ],
      "id": "LWwBIU1Lh52M"
    },
    {
      "cell_type": "code",
      "metadata": {
        "id": "flying-bennett"
      },
      "source": [
        "import tensorflow as tf\n",
        "from tensorflow.keras.models import Sequential\n",
        "from tensorflow.keras.layers import Dense, Activation, Conv2D, Flatten, MaxPooling2D\n",
        "from tensorflow.keras.callbacks import TensorBoard\n",
        "from tensorflow.keras.callbacks import ModelCheckpoint\n",
        "import time"
      ],
      "id": "flying-bennett",
      "execution_count": 32,
      "outputs": []
    },
    {
      "cell_type": "markdown",
      "metadata": {
        "id": "oUWOwbUviqZn"
      },
      "source": [
        "## Once Again calling the X and y value to make it a numpy array"
      ],
      "id": "oUWOwbUviqZn"
    },
    {
      "cell_type": "code",
      "metadata": {
        "colab": {
          "base_uri": "https://localhost:8080/"
        },
        "id": "l7ZEPTU6iz_Q",
        "outputId": "9df49bfb-d991-4474-fef7-1cf2fb1454be"
      },
      "source": [
        "X = np.array(X)\n",
        "y =np.array(y)\n",
        "print(X.shape[1:])"
      ],
      "id": "l7ZEPTU6iz_Q",
      "execution_count": 16,
      "outputs": [
        {
          "output_type": "stream",
          "text": [
            "(250, 250, 1)\n"
          ],
          "name": "stdout"
        }
      ]
    },
    {
      "cell_type": "markdown",
      "metadata": {
        "id": "9H-vb4IUkK22"
      },
      "source": [
        "## Building the model\n",
        "---\n",
        "\n",
        "\n",
        "> Defining the function which creates model\n",
        "\n",
        "\n"
      ],
      "id": "9H-vb4IUkK22"
    },
    {
      "cell_type": "code",
      "metadata": {
        "id": "FHuCOWBNGYpV"
      },
      "source": [
        "def createModel(DenseLayer, convLayer,LayerSize):\n",
        "\n",
        "    model= Sequential()\n",
        "    model.add(Conv2D(LayerSize,(3,3),input_shape= (250,250,1)))\n",
        "    model.add(Activation('relu'))\n",
        "    model.add(MaxPooling2D(pool_size= (2,2)))\n",
        "    \n",
        "    for i in range (convLayer -1):\n",
        "      model.add(Conv2D(LayerSize,(3,3)))\n",
        "      model.add(Activation('relu'))\n",
        "      model.add(MaxPooling2D(pool_size= (2,2)))\n",
        "\n",
        "\n",
        "    model.add(Flatten())\n",
        "    for i in range (DenseLayer-1):\n",
        "      model.add(Dense(64))\n",
        "      model.add(Activation('relu'))\n",
        "\n",
        "\n",
        "    model.add(Dense(1))\n",
        "    model.add(Activation('sigmoid'))\n",
        "    return model"
      ],
      "id": "FHuCOWBNGYpV",
      "execution_count": 17,
      "outputs": []
    },
    {
      "cell_type": "markdown",
      "metadata": {
        "id": "y_-ubqHYc3Rn"
      },
      "source": [
        "# I have compared the model designs with one another\n",
        "---\n",
        "\n",
        "\n",
        "*   **Conisdered 4 sets of Dense Layers** (3,4) \n",
        "*   **Considered 3 sets of Neurons in Each layer**  (32,64)\n",
        "*   **Considered 3 sets of convolutional layers**  (2,3) \n",
        "***\n",
        "Overall 4x3x3 = 36 Models will be made\n"
      ],
      "id": "y_-ubqHYc3Rn"
    },
    {
      "cell_type": "code",
      "metadata": {
        "id": "9f4dfGwzA_i6"
      },
      "source": [
        "\n",
        "!mkdir -p /content/drive/MyDrive/newSET/saved_model\n"
      ],
      "id": "9f4dfGwzA_i6",
      "execution_count": 19,
      "outputs": []
    },
    {
      "cell_type": "code",
      "metadata": {
        "id": "wG4KVqRGeAV6"
      },
      "source": [
        "denseLayers = [3,4]\n",
        "layerSizes = [32, 64]\n",
        "convLayers = [2,3]\n",
        "\n",
        "for denseLayer in denseLayers:\n",
        "  for layerSize in layerSizes:\n",
        "    for convLayer in convLayers:\n",
        "      NAME = 'men-x-women-CNN-{}x2-{} -convLayers-{} -denseLayer-{}'.format(layerSize,int(time.time()),convLayer, denseLayer)\n",
        "      tensorboard = TensorBoard(log_dir='/content/drive/MyDrive/newSET/logs/{}'.format(NAME))\n",
        "      model = createModel(denseLayer, convLayer,layerSize)\n",
        "      model.compile(loss ='binary_crossentropy', optimizer ='adam', metrics = ['accuracy'])\n",
        "      C_path = '/content/drive/MyDrive/newSET/saved_model/training_{}x2_convLayers-{}-denseLayer-{}/cp.ckpt'.format(layerSize,convLayer, denseLayer)\n",
        "      ck_dir = os.path.dirname(C_path)\n",
        "      callback = ModelCheckpoint(C_path, save_weights_only = True, verbose = 1)\n",
        "      model.fit(X,y, batch_size = 16, validation_split=0.1, epochs = 5, callbacks = [tensorboard, callback])\n",
        "      \n"
      ],
      "id": "wG4KVqRGeAV6",
      "execution_count": null,
      "outputs": []
    },
    {
      "cell_type": "markdown",
      "metadata": {
        "id": "YJh9JJPWuNVD"
      },
      "source": [
        "#**Saving the model**\n",
        "\n",
        "\n",
        "---\n",
        "by using the technique of checkpoint callback \n",
        "\n"
      ],
      "id": "YJh9JJPWuNVD"
    },
    {
      "cell_type": "markdown",
      "metadata": {
        "id": "3E5VKqlwhhal"
      },
      "source": [
        "## After Comparision we can clearly say that:-\n",
        ">'men-x-women-CNN-64x2-convLayers-2-denselayer-3'\n",
        ">\n",
        ">'/content/drive/MyDrive/newSET/saved_model/training_64x2convLayers-2-denseLayer-3'\n",
        "\n",
        "\n",
        "is the best as compared to others\n",
        "\n",
        "Now we will use this Model to further validate our dataset"
      ],
      "id": "3E5VKqlwhhal"
    },
    {
      "cell_type": "code",
      "metadata": {
        "colab": {
          "base_uri": "https://localhost:8080/"
        },
        "id": "ApSZOEmesSoE",
        "outputId": "7af4a450-4c68-418f-aac5-2876139b3711"
      },
      "source": [
        "model = createModel(3,2,64)\n",
        "\n",
        "model.load_weights('/content/drive/MyDrive/newSET/saved_model/training_64x2_convLayers-2-denseLayer-3/cp.ckpt')\n"
      ],
      "id": "ApSZOEmesSoE",
      "execution_count": 35,
      "outputs": [
        {
          "output_type": "execute_result",
          "data": {
            "text/plain": [
              "<tensorflow.python.training.tracking.util.CheckpointLoadStatus at 0x7fd736238d50>"
            ]
          },
          "metadata": {
            "tags": []
          },
          "execution_count": 35
        }
      ]
    },
    {
      "cell_type": "markdown",
      "metadata": {
        "id": "XiAUYQNqFCJF"
      },
      "source": [
        "# Reloading the previous model\n",
        "---\n",
        "Using that model and testing"
      ],
      "id": "XiAUYQNqFCJF"
    },
    {
      "cell_type": "code",
      "metadata": {
        "id": "7-8-LdFUkS2J",
        "colab": {
          "base_uri": "https://localhost:8080/"
        },
        "outputId": "65a3f4af-a3a9-40b6-82dc-cb32f1e3c8f2"
      },
      "source": [
        "import cv2\n",
        "import tensorflow as tf\n",
        "\n",
        "\n",
        "Categories = [\"female\",\"male\"]\n",
        "def prepare(filepath):\n",
        "  IMG_SIZE = 250\n",
        "  img_arr   = cv2.imread(filepath, cv2.IMREAD_GRAYSCALE)\n",
        "  new_image = cv2.resize(img_arr, (IMG_SIZE,IMG_SIZE))\n",
        "  return new_image.reshape(-1,IMG_SIZE,IMG_SIZE,1)\n",
        "\n",
        "prediction = model.predict(prepare(\"/content/drive/MyDrive/GenderTesting/test(ss).jpg\"))\n",
        "\n",
        "\n",
        "print(Categories[int(prediction[0][0])])"
      ],
      "id": "7-8-LdFUkS2J",
      "execution_count": 64,
      "outputs": [
        {
          "output_type": "stream",
          "text": [
            "male\n"
          ],
          "name": "stdout"
        }
      ]
    }
  ]
}